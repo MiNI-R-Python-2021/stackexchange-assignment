{
 "cells": [
  {
   "cell_type": "markdown",
   "metadata": {},
   "source": [
    "## Pobranie potrzebnych paczek"
   ]
  },
  {
   "cell_type": "code",
   "execution_count": 57,
   "metadata": {},
   "outputs": [],
   "source": [
    "import requests\n",
    "import os\n",
    "from pyunpack import Archive\n",
    "import xml.etree.ElementTree as et\n",
    "import pandas as pd\n",
    "import numpy as np\n",
    "from py7zr import unpack_7zarchive\n",
    "import matplotlib.pyplot as plt"
   ]
  },
  {
   "cell_type": "markdown",
   "metadata": {},
   "source": [
    "## Funkcje potrzebne do pobrania i przygotowania danych"
   ]
  },
  {
   "cell_type": "code",
   "execution_count": 58,
   "metadata": {},
   "outputs": [],
   "source": [
    "def download_packed(url, name, path):\n",
    "    filename = path + '\\\\' + name + '.7z'\n",
    "    if os.path.exists(filename):\n",
    "        return filename\n",
    "    \n",
    "    response = requests.get(url, stream=True)\n",
    "    if not os.path.exists(path):\n",
    "        os.mkdir(path)\n",
    "    if response.status_code == 200:\n",
    "        with open(filename, 'wb') as out:\n",
    "            out.write(response.content)\n",
    "    else:\n",
    "        print(f'Request failed with code {response.status_code}')\n",
    "    return filename"
   ]
  },
  {
   "cell_type": "code",
   "execution_count": 59,
   "metadata": {},
   "outputs": [],
   "source": [
    "def download_all_packed(urls, names, path):\n",
    "    filenames = []\n",
    "    for url, name in zip(urls, names):\n",
    "        filenames.append(download_packed(url, name, path))\n",
    "    return filenames"
   ]
  },
  {
   "cell_type": "code",
   "execution_count": 60,
   "metadata": {},
   "outputs": [],
   "source": [
    "def unpack(archive, path):\n",
    "    if not os.path.exists(path):\n",
    "        os.mkdir(path)\n",
    "    else:\n",
    "        return archive[:-3]\n",
    "    shutil.unpack_archive(archive, path)\n",
    "    return archive[:-3]"
   ]
  },
  {
   "cell_type": "code",
   "execution_count": 61,
   "metadata": {},
   "outputs": [],
   "source": [
    "def unpack_all(archives, path, names):\n",
    "    files = []\n",
    "    for archive, name in zip(archives, names):\n",
    "        files.append(unpack(archive, path + '\\\\' + name))\n",
    "    return files"
   ]
  },
  {
   "cell_type": "code",
   "execution_count": 62,
   "metadata": {},
   "outputs": [],
   "source": [
    "def parse_xml(file, tables):\n",
    "    data = {}\n",
    "    for table in tables:\n",
    "        tree = et.parse(file + '\\\\' + table + '.xml')\n",
    "        root = tree.getroot()\n",
    "        rows = []\n",
    "        for elem in root:\n",
    "            rows.append(elem.attrib)\n",
    "        data[table] = pd.DataFrame(rows)\n",
    "    return data"
   ]
  },
  {
   "cell_type": "code",
   "execution_count": 63,
   "metadata": {},
   "outputs": [],
   "source": [
    "def parse_all_xml(files, names, tables):\n",
    "    dataframes = {}\n",
    "    for file, name in zip(files, names):\n",
    "        dataframes[name] = parse_xml(file, tables)\n",
    "    return dataframes"
   ]
  },
  {
   "cell_type": "code",
   "execution_count": 64,
   "metadata": {},
   "outputs": [],
   "source": [
    "def adjust_data(df):\n",
    "    boolean_dict = {'False':False, 'True':True, np.nan:False}\n",
    "    for col in df:\n",
    "        if ('Id' in col) or (col == 'Score') or (col == 'Class') or ('Count' in col) or \\\n",
    "        (col == 'Reputation') or ('Views' in col) or ('Votes' in col):\n",
    "            df[col] = pd.to_numeric(df[col])\n",
    "        elif ('Date' in col):\n",
    "            df[col] = pd.to_datetime(df[col])\n",
    "        elif (col == 'TagBased') or ('Is' in col):\n",
    "            df[col] = df[col].map(boolean_dict)\n",
    "    return df"
   ]
  },
  {
   "cell_type": "code",
   "execution_count": 65,
   "metadata": {},
   "outputs": [],
   "source": [
    "def adjust_all_data(dfs):\n",
    "    for key in dfs:\n",
    "        for inner_key in dfs[key]:\n",
    "            dfs[key][inner_key] = adjust_data(dfs[key][inner_key])\n",
    "    return dfs"
   ]
  },
  {
   "cell_type": "code",
   "execution_count": 66,
   "metadata": {},
   "outputs": [],
   "source": [
    "def prepare_data_for_use(urls, names, path, tables):\n",
    "    archives = download_all_packed(urls, names, path)\n",
    "    files = unpack_all(archives, path, names)\n",
    "    dataframes = parse_all_xml(files, names, tables)\n",
    "    dataframes_adjusted = adjust_all_data(dataframes)\n",
    "    return dataframes_adjusted"
   ]
  },
  {
   "cell_type": "markdown",
   "metadata": {},
   "source": [
    "## Wywołanie utworzenia danych"
   ]
  },
  {
   "cell_type": "code",
   "execution_count": 67,
   "metadata": {},
   "outputs": [],
   "source": [
    "urls = [\n",
    "    'https://archive.org/download/stackexchange/islam.stackexchange.com.7z',\n",
    "    'https://archive.org/download/stackexchange/christianity.stackexchange.com.7z',\n",
    "    'https://archive.org/download/stackexchange/buddhism.stackexchange.com.7z',\n",
    "    'https://archive.org/download/stackexchange/judaism.stackexchange.com.7z',\n",
    "    'https://archive.org/download/stackexchange/hinduism.stackexchange.com.7z',\n",
    "]\n",
    "\n",
    "names = [\n",
    "    'islam',\n",
    "    'christianity',\n",
    "    'buddhism',\n",
    "    'judaism',\n",
    "    'hinduism'\n",
    "]\n",
    "\n",
    "tables = [\n",
    "    'Badges',\n",
    "    'Comments',\n",
    "    'PostHistory',\n",
    "    'PostLinks',\n",
    "    'Posts',\n",
    "    'Users',\n",
    "    'Votes',\n",
    "    'Tags',\n",
    "    \n",
    "]\n",
    "\n",
    "path = os.getcwd() + '\\\\' + 'data'\n",
    "\n",
    "dfs = prepare_data_for_use(urls, names, path, tables)\n",
    "\n",
    "islam_df = dfs['islam']\n",
    "christianity_df = dfs['christianity']\n",
    "buddhism_df = dfs['buddhism']\n",
    "judaism_df = dfs['judaism']\n",
    "hinduism_df = dfs['hinduism']"
   ]
  },
  {
   "cell_type": "markdown",
   "metadata": {},
   "source": [
    " ## Stosunek postów do miesięcy"
   ]
  },
  {
   "cell_type": "code",
   "execution_count": 75,
   "metadata": {},
   "outputs": [],
   "source": [
    "def get_posts_per_month(df):\n",
    "    data = df['Posts'].groupby([df['Posts'].CreationDate.dt.month])['CreationDate'].count()\n",
    "    return data"
   ]
  },
  {
   "cell_type": "code",
   "execution_count": 76,
   "metadata": {},
   "outputs": [],
   "source": [
    "m1 = get_posts_per_month(islam_df)\n",
    "m2 = get_posts_per_month(christianity_df)\n",
    "m3 = get_posts_per_month(buddhism_df)\n",
    "m4 = get_posts_per_month(judaism_df)\n",
    "m5 = get_posts_per_month(hinduism_df)"
   ]
  },
  {
   "cell_type": "code",
   "execution_count": 79,
   "metadata": {},
   "outputs": [
    {
     "data": {
      "image/png": "[encoded data removed]",
      "text/plain": [
       "<Figure size 432x288 with 1 Axes>"
      ]
     },
     "metadata": {
      "needs_background": "light"
     },
     "output_type": "display_data"
    }
   ],
   "source": [
    "plt.plot(m1)\n",
    "plt.plot(m2)\n",
    "plt.plot(m3)\n",
    "plt.plot(m4)\n",
    "plt.plot(m5)\n",
    "\n",
    "plt.legend([\n",
    "    'islam',\n",
    "    'christianity',\n",
    "    'buddhism',\n",
    "    'judaism',\n",
    "    'hinduism'\n",
    "])\n",
    "\n",
    "plt.show()"
   ]
  }
 ],
 "metadata": {
  "kernelspec": {
   "display_name": "Python 3",
   "language": "python",
   "name": "python3"
  },
  "language_info": {
   "codemirror_mode": {
    "name": "ipython",
    "version": 3
   },
   "file_extension": ".py",
   "mimetype": "text/x-python",
   "name": "python",
   "nbconvert_exporter": "python",
   "pygments_lexer": "ipython3",
   "version": "3.8.5"
  }
 },
 "nbformat": 4,
 "nbformat_minor": 4
}
