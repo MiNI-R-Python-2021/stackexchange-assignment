{
 "cells": [
  {
   "cell_type": "markdown",
   "metadata": {},
   "source": [
    "## Pobranie potrzebnych paczek"
   ]
  },
  {
   "cell_type": "code",
   "execution_count": 1,
   "metadata": {},
   "outputs": [],
   "source": [
    "import requests\n",
    "import os\n",
    "from pyunpack import Archive\n",
    "import xml.etree.ElementTree as et\n",
    "import pandas as pd\n",
    "import numpy as np\n",
    "from py7zr import unpack_7zarchive\n",
    "import matplotlib.pyplot as plt\n",
    "import shutil\n",
    "import matplotlib.pyplot as plt\n",
    "from wordcloud import WordCloud, STOPWORDS, ImageColorGenerator\n",
    "import nltk\n",
    "from nltk.corpus import stopwords\n",
    "from collections import Counter\n",
    "import re\n",
    "import matplotlib.pyplot as plt; plt.rcdefaults()\n",
    "import matplotlib.pyplot as plt"
   ]
  },
  {
   "cell_type": "markdown",
   "metadata": {},
   "source": [
    "## Funkcje potrzebne do pobrania i przygotowania danych"
   ]
  },
  {
   "cell_type": "code",
   "execution_count": 2,
   "metadata": {},
   "outputs": [],
   "source": [
    "def download_packed(url, name, path):\n",
    "    filename = path + '\\\\' + name + '.7z'\n",
    "    if os.path.exists(filename):\n",
    "        return filename\n",
    "    \n",
    "    response = requests.get(url, stream=True)\n",
    "    if not os.path.exists(path):\n",
    "        os.mkdir(path)\n",
    "    if response.status_code == 200:\n",
    "        with open(filename, 'wb') as out:\n",
    "            out.write(response.content)\n",
    "    else:\n",
    "        print(f'Request failed with code {response.status_code}')\n",
    "    return filename"
   ]
  },
  {
   "cell_type": "code",
   "execution_count": 3,
   "metadata": {},
   "outputs": [],
   "source": [
    "def download_all_packed(urls, names, path):\n",
    "    filenames = []\n",
    "    for url, name in zip(urls, names):\n",
    "        filenames.append(download_packed(url, name, path))\n",
    "    return filenames"
   ]
  },
  {
   "cell_type": "code",
   "execution_count": 4,
   "metadata": {},
   "outputs": [],
   "source": [
    "def unpack(archive, path):\n",
    "    if not os.path.exists(path):\n",
    "        os.mkdir(path)\n",
    "    else:\n",
    "        return archive[:-3]\n",
    "    try:\n",
    "        shutil.register_unpack_format('.7z', '.7z', unpack_7zarchive)\n",
    "    except:\n",
    "        print(\"Archive already registered.\")\n",
    "    shutil.unpack_archive(archive, path)\n",
    "    return archive[:-3]"
   ]
  },
  {
   "cell_type": "code",
   "execution_count": 5,
   "metadata": {},
   "outputs": [],
   "source": [
    "def unpack_all(archives, path, names):\n",
    "    files = []\n",
    "    for archive, name in zip(archives, names):\n",
    "        files.append(unpack(archive, path + '\\\\' + name))\n",
    "    return files"
   ]
  },
  {
   "cell_type": "code",
   "execution_count": 6,
   "metadata": {},
   "outputs": [],
   "source": [
    "def parse_xml(file, tables):\n",
    "    data = {}\n",
    "    for table in tables:\n",
    "        tree = et.parse(file + '\\\\' + table + '.xml')\n",
    "        root = tree.getroot()\n",
    "        rows = []\n",
    "        for elem in root:\n",
    "            rows.append(elem.attrib)\n",
    "        data[table] = pd.DataFrame(rows)\n",
    "    return data"
   ]
  },
  {
   "cell_type": "code",
   "execution_count": 7,
   "metadata": {},
   "outputs": [],
   "source": [
    "def parse_all_xml(files, names, tables):\n",
    "    dataframes = {}\n",
    "    for file, name in zip(files, names):\n",
    "        dataframes[name] = parse_xml(file, tables)\n",
    "    return dataframes"
   ]
  },
  {
   "cell_type": "code",
   "execution_count": 8,
   "metadata": {},
   "outputs": [],
   "source": [
    "def adjust_data(df):\n",
    "    boolean_dict = {'False':False, 'True':True, np.nan:False}\n",
    "    for col in df:\n",
    "        if ('Id' in col) or (col == 'Score') or (col == 'Class') or ('Count' in col) or \\\n",
    "        (col == 'Reputation') or ('Views' in col) or ('Votes' in col):\n",
    "            df[col] = pd.to_numeric(df[col])\n",
    "        elif ('Date' in col):\n",
    "            df[col] = pd.to_datetime(df[col])\n",
    "        elif (col == 'TagBased') or ('Is' in col):\n",
    "            df[col] = df[col].map(boolean_dict)\n",
    "    return df"
   ]
  },
  {
   "cell_type": "code",
   "execution_count": 9,
   "metadata": {},
   "outputs": [],
   "source": [
    "def adjust_all_data(dfs):\n",
    "    for key in dfs:\n",
    "        for inner_key in dfs[key]:\n",
    "            dfs[key][inner_key] = adjust_data(dfs[key][inner_key])\n",
    "    return dfs"
   ]
  },
  {
   "cell_type": "code",
   "execution_count": 10,
   "metadata": {},
   "outputs": [],
   "source": [
    "def prepare_data_for_use(urls, names, path, tables):\n",
    "    archives = download_all_packed(urls, names, path)\n",
    "    files = unpack_all(archives, path, names)\n",
    "    dataframes = parse_all_xml(files, names, tables)\n",
    "    dataframes_adjusted = adjust_all_data(dataframes)\n",
    "    return dataframes_adjusted"
   ]
  },
  {
   "cell_type": "code",
   "execution_count": 11,
   "metadata": {},
   "outputs": [],
   "source": [
    "def find_200_most_frequent_words_in_posts(postsXML_directory):\n",
    "    '''\n",
    "    Function that find 100 most frequent words in Posts.xml\n",
    "    postsXML_directory - path to the file Posts.xml ex. 7zdatabase\\hinduism.stackexchange.com\\Posts.XML\n",
    "    '''\n",
    "    xtree = et.parse(postsXML_directory)\n",
    "    xroot = xtree.getroot()\n",
    "    df_cols = [\"Id\", \"Body\"]\n",
    "    rows = []\n",
    "    for node in xroot:\n",
    "        s_id= node.attrib.get(\"Id\")\n",
    "        s_body = node.attrib.get(\"Body\")\n",
    "        # Clean html tags\n",
    "        if s_body is not None:\n",
    "            post_text = cleanhtml(s_body)\n",
    "            # Remove \\n sign\n",
    "            text = re.sub(r'\\n', ' ', post_text)\n",
    "            rows.append({\"Id\": s_id, \"Body\": text})\n",
    "    df = pd.DataFrame(rows, columns = df_cols)\n",
    "    df_body = df['Body'].str.lower()\n",
    "    # Make all words lowercase and add them to an array\n",
    "    words_list = []\n",
    "    for i in range(df_body.size):\n",
    "        try:\n",
    "            words_list.append( '{} '.format(df_body[i].lower()))\n",
    "        except:\n",
    "            None\n",
    "    # Convert list to string\n",
    "    words = ''\n",
    "    words = words.join(words_list)\n",
    "    # Find 200 most common words\n",
    "    wd = pd.DataFrame(Counter(words.split()).most_common(200), columns=['word', 'frequency'])\n",
    "    return wd"
   ]
  },
  {
   "cell_type": "code",
   "execution_count": 12,
   "metadata": {},
   "outputs": [],
   "source": [
    "def show_most_frequent_words_graph(word_frequency_df):\n",
    "    data = dict(zip(word_frequency_df['word'].tolist(), word_frequency_df['frequency'].tolist()))\n",
    "    for word in STOPWORDS:\n",
    "        if data.get(word) : data.pop(word)\n",
    "    wc = WordCloud(background_color='white',\n",
    "                stopwords=STOPWORDS,\n",
    "                max_words=200).generate_from_frequencies(data)\n",
    "    plt.imshow(wc, interpolation='bilinear')\n",
    "    plt.axis(\"off\")\n",
    "    plt.show()"
   ]
  },
  {
   "cell_type": "code",
   "execution_count": 13,
   "metadata": {},
   "outputs": [],
   "source": [
    "def cleanhtml(raw_html):\n",
    "  cleanr = re.compile('<.*?>|&amp;')\n",
    "  cleantext = re.sub(cleanr, '', raw_html)\n",
    "  return cleantext"
   ]
  },
  {
   "cell_type": "code",
   "execution_count": 14,
   "metadata": {},
   "outputs": [],
   "source": [
    "def words_occurency(postsXML_directory, words):\n",
    "    '''\n",
    "    Function that find occurencies of words in Posts.xml.\n",
    "    '''\n",
    "    xtree = et.parse(postsXML_directory)\n",
    "    xroot = xtree.getroot()\n",
    "    df_cols = [\"Id\", \"Body\"]\n",
    "    rows = []\n",
    "    for node in xroot:\n",
    "        s_id= node.attrib.get(\"Id\")\n",
    "        s_body = node.attrib.get(\"Body\")\n",
    "        # Clean html tags\n",
    "        if s_body is not None:\n",
    "            rows.append({\"Id\": s_id, \"Body\": s_body})\n",
    "    occurencies = 0\n",
    "    for row in rows:\n",
    "        for word in words:\n",
    "            occurencies += row[\"Body\"].count(word)\n",
    "    return occurencies\n",
    "            "
   ]
  },
  {
   "cell_type": "code",
   "execution_count": 15,
   "metadata": {},
   "outputs": [],
   "source": [
    "def words_occurency_list(postsXML_directory, words_list):\n",
    "    occurency_list = []\n",
    "    for words in words_list:\n",
    "        cur_occurency = words_occurency(postsXML_directory, words)\n",
    "        occurency_list.append(cur_occurency)\n",
    "    return occurency_list\n",
    "    "
   ]
  },
  {
   "cell_type": "code",
   "execution_count": 16,
   "metadata": {},
   "outputs": [],
   "source": [
    "def draw_words_plot(religions, occurencies, title):\n",
    "    y_pos = np.arange(len(religions))\n",
    "\n",
    "    plt.bar(y_pos, occurencies, align='center', alpha=0.5)\n",
    "    plt.xticks(y_pos, religions)\n",
    "    plt.ylabel('Liczba wystąpień')\n",
    "    plt.title(title)\n",
    "    plt.show()"
   ]
  },
  {
   "cell_type": "markdown",
   "metadata": {},
   "source": [
    "## Wywołanie utworzenia danych"
   ]
  },
  {
   "cell_type": "code",
   "execution_count": null,
   "metadata": {},
   "outputs": [],
   "source": [
    "urls = [\n",
    "    'https://archive.org/download/stackexchange/islam.stackexchange.com.7z',\n",
    "    'https://archive.org/download/stackexchange/christianity.stackexchange.com.7z',\n",
    "    'https://archive.org/download/stackexchange/buddhism.stackexchange.com.7z',\n",
    "    'https://archive.org/download/stackexchange/judaism.stackexchange.com.7z',\n",
    "    'https://archive.org/download/stackexchange/hinduism.stackexchange.com.7z',\n",
    "]\n",
    "\n",
    "names = [\n",
    "    'islam',\n",
    "    'christianity',\n",
    "    'buddhism',\n",
    "    'judaism',\n",
    "    'hinduism'\n",
    "]\n",
    "\n",
    "tables = [\n",
    "    'Badges',\n",
    "    'Comments',\n",
    "    'PostHistory',\n",
    "    'PostLinks',\n",
    "    'Posts',\n",
    "    'Users',\n",
    "    'Votes',\n",
    "    'Tags',\n",
    "    \n",
    "]\n",
    "\n",
    "path = os.getcwd() + '\\\\' + 'data'\n",
    "\n",
    "dfs = prepare_data_for_use(urls, names, path, tables)\n",
    "\n",
    "islam_df = dfs['islam']\n",
    "christianity_df = dfs['christianity']\n",
    "buddhism_df = dfs['buddhism']\n",
    "judaism_df = dfs['judaism']\n",
    "hinduism_df = dfs['hinduism']"
   ]
  },
  {
   "cell_type": "markdown",
   "metadata": {},
   "source": [
    " ## Stosunek postów do miesięcy"
   ]
  },
  {
   "cell_type": "code",
   "execution_count": null,
   "metadata": {},
   "outputs": [],
   "source": [
    "def get_posts_per_month(df):\n",
    "    data = df['Posts'].groupby([df['Posts'].CreationDate.dt.month])['CreationDate'].count()\n",
    "    return data"
   ]
  },
  {
   "cell_type": "code",
   "execution_count": null,
   "metadata": {},
   "outputs": [],
   "source": [
    "m1 = get_posts_per_month(islam_df)\n",
    "m2 = get_posts_per_month(christianity_df)\n",
    "m3 = get_posts_per_month(buddhism_df)\n",
    "m4 = get_posts_per_month(judaism_df)\n",
    "m5 = get_posts_per_month(hinduism_df)"
   ]
  },
  {
   "cell_type": "code",
   "execution_count": null,
   "metadata": {},
   "outputs": [],
   "source": [
    "plt.plot(m1)\n",
    "plt.plot(m2)\n",
    "plt.plot(m3)\n",
    "plt.plot(m4)\n",
    "plt.plot(m5)\n",
    "\n",
    "plt.legend([\n",
    "    'islam',\n",
    "    'christianity',\n",
    "    'buddhism',\n",
    "    'judaism',\n",
    "    'hinduism'\n",
    "])\n",
    "\n",
    "plt.show()"
   ]
  },
  {
   "cell_type": "markdown",
   "metadata": {},
   "source": [
    "## Zestawienie najczęściej występujących słów"
   ]
  },
  {
   "cell_type": "code",
   "execution_count": null,
   "metadata": {},
   "outputs": [],
   "source": [
    "hinduismPostsPath = os.getcwd() + '\\\\' + 'data' + '\\\\' + 'hinduism' + '\\\\' + 'Posts.XML'\n",
    "hinduism200Words = find_200_most_frequent_words_in_posts(hinduismPostsPath)\n",
    "show_most_frequent_words_graph(hinduism200Words)"
   ]
  },
  {
   "cell_type": "code",
   "execution_count": null,
   "metadata": {},
   "outputs": [],
   "source": [
    "islamPostsPath = os.getcwd() + '\\\\' + 'data' + '\\\\' + 'islam' + '\\\\' + 'Posts.XML'\n",
    "islam200Words = find_200_most_frequent_words_in_posts(islamPostsPath)\n",
    "show_most_frequent_words_graph(islam200Words)"
   ]
  },
  {
   "cell_type": "code",
   "execution_count": null,
   "metadata": {},
   "outputs": [],
   "source": [
    "judaismPostsPath = os.getcwd() + '\\\\' + 'data' + '\\\\' + 'judaism' + '\\\\' + 'Posts.XML'\n",
    "judaism200Words = find_200_most_frequent_words_in_posts(judaismPostsPath)\n",
    "show_most_frequent_words_graph(judaism200Words)"
   ]
  },
  {
   "cell_type": "code",
   "execution_count": null,
   "metadata": {},
   "outputs": [],
   "source": [
    "christianityPostsPath = os.getcwd() + '\\\\' + 'data' + '\\\\' + 'christianity' + '\\\\' + 'Posts.XML'\n",
    "christianity200Words = find_200_most_frequent_words_in_posts(christianityPostsPath)\n",
    "show_most_frequent_words_graph(christianity200Words)"
   ]
  },
  {
   "cell_type": "code",
   "execution_count": null,
   "metadata": {},
   "outputs": [],
   "source": [
    "buddhismPostsPath = os.getcwd() + '\\\\' + 'data' + '\\\\' + 'buddhism' + '\\\\' + 'Posts.XML'\n",
    "buddhism200Words = find_200_most_frequent_words_in_posts(buddhismPostsPath)\n",
    "show_most_frequent_words_graph(buddhism200Words)"
   ]
  },
  {
   "cell_type": "markdown",
   "metadata": {},
   "source": [
    "## Występowania słów kluczowych z innych religii "
   ]
  },
  {
   "cell_type": "code",
   "execution_count": null,
   "metadata": {},
   "outputs": [],
   "source": [
    "hinduism_words = [\"hinduism\", \"shiva\", \"krishna\", \"hindu\", \"brahman\"]\n",
    "islam_words = [\"allah\", \"muslim\", \"islam\", \"hadith\", \"quoran\"]\n",
    "judaism_words = [\"rabbi\", \"torah\", \"judaism\", \"jew\", \"moshe\"]\n",
    "christianity_words = [\"jesus\", \"church\", \"paul\", \"christian\", \"catholic\"]\n",
    "buddhism_words = [\"buddha\", \"buddhist\", \"buddhism\", \"sutta\", \"budd\"]\n",
    "\n",
    "\n",
    "hinduismPostsPath = os.getcwd() + '\\\\' + 'data' + '\\\\' + 'hinduism' + '\\\\' + 'Posts.XML'\n",
    "islamPostsPath = os.getcwd() + '\\\\' + 'data' + '\\\\' + 'islam' + '\\\\' + 'Posts.XML'\n",
    "judaismPostsPath = os.getcwd() + '\\\\' + 'data' + '\\\\' + 'judaism' + '\\\\' + 'Posts.XML'\n",
    "christianityPostsPath = os.getcwd() + '\\\\' + 'data' + '\\\\' + 'christianity' + '\\\\' + 'Posts.XML'\n",
    "buddhismPostsPath = os.getcwd() + '\\\\' + 'data' + '\\\\' + 'buddhism' + '\\\\' + 'Posts.XML'\n",
    "h_w = words_occurency_list(hinduismPostsPath, [islam_words, judaism_words, christianity_words, buddhism_words])\n",
    "\n",
    "pl1 = draw_words_plot([\"islam\", \"judaism\", \"christianity\", \"buddhism\"], h_w, \"Występowanie słów z innych religi w postach forum hinduistycznego\")\n"
   ]
  },
  {
   "cell_type": "code",
   "execution_count": null,
   "metadata": {},
   "outputs": [],
   "source": [
    "hinduism_words = [\"hinduism\", \"shiva\", \"krishna\", \"hindu\", \"brahman\"]\n",
    "islam_words = [\"allah\", \"muslim\", \"islam\", \"hadith\", \"quoran\"]\n",
    "judaism_words = [\"rabbi\", \"torah\", \"judaism\", \"jew\", \"moshe\"]\n",
    "christianity_words = [\"jesus\", \"church\", \"paul\", \"christian\", \"catholic\"]\n",
    "buddhism_words = [\"buddha\", \"buddhist\", \"buddhism\", \"sutta\", \"budd\"]\n",
    "\n",
    "hinduismPostsPath = os.getcwd() + '\\\\' + 'data' + '\\\\' + 'hinduism' + '\\\\' + 'Posts.XML'\n",
    "islamPostsPath = os.getcwd() + '\\\\' + 'data' + '\\\\' + 'islam' + '\\\\' + 'Posts.XML'\n",
    "judaismPostsPath = os.getcwd() + '\\\\' + 'data' + '\\\\' + 'judaism' + '\\\\' + 'Posts.XML'\n",
    "christianityPostsPath = os.getcwd() + '\\\\' + 'data' + '\\\\' + 'christianity' + '\\\\' + 'Posts.XML'\n",
    "buddhismPostsPath = os.getcwd() + '\\\\' + 'data' + '\\\\' + 'buddhism' + '\\\\' + 'Posts.XML'\n",
    "\n",
    "i_w = words_occurency_list(islamPostsPath, [hinduism_words, judaism_words, christianity_words, buddhism_words])\n",
    "pl2 = draw_words_plot([\"hinduism\", \"judaism\", \"christianity\", \"buddhism\"], i_w, \"Występowanie słów z innych religi w postach forum islamistycznego\")\n",
    "\n"
   ]
  },
  {
   "cell_type": "code",
   "execution_count": null,
   "metadata": {},
   "outputs": [],
   "source": [
    "hinduism_words = [\"hinduism\", \"shiva\", \"krishna\", \"hindu\", \"brahman\"]\n",
    "islam_words = [\"allah\", \"muslim\", \"islam\", \"hadith\", \"quoran\"]\n",
    "judaism_words = [\"rabbi\", \"torah\", \"judaism\", \"jew\", \"moshe\"]\n",
    "christianity_words = [\"jesus\", \"church\", \"paul\", \"christian\", \"catholic\"]\n",
    "buddhism_words = [\"buddha\", \"buddhist\", \"buddhism\", \"sutta\", \"budd\"]\n",
    "\n",
    "hinduismPostsPath = os.getcwd() + '\\\\' + 'data' + '\\\\' + 'hinduism' + '\\\\' + 'Posts.XML'\n",
    "islamPostsPath = os.getcwd() + '\\\\' + 'data' + '\\\\' + 'islam' + '\\\\' + 'Posts.XML'\n",
    "judaismPostsPath = os.getcwd() + '\\\\' + 'data' + '\\\\' + 'judaism' + '\\\\' + 'Posts.XML'\n",
    "christianityPostsPath = os.getcwd() + '\\\\' + 'data' + '\\\\' + 'christianity' + '\\\\' + 'Posts.XML'\n",
    "buddhismPostsPath = os.getcwd() + '\\\\' + 'data' + '\\\\' + 'buddhism' + '\\\\' + 'Posts.XML'\n",
    "\n",
    "j_w = words_occurency_list(judaismPostsPath, [hinduism_words, islam_words, christianity_words, buddhism_words])\n",
    "pl3 = draw_words_plot([\"hinduism\", \"islam\", \"christianity\", \"buddhism\"], j_w, \"Występowanie słów z innych religi w postach forum judaistycznego\")\n",
    "\n"
   ]
  },
  {
   "cell_type": "code",
   "execution_count": null,
   "metadata": {},
   "outputs": [],
   "source": [
    "hinduism_words = [\"hinduism\", \"shiva\", \"krishna\", \"hindu\", \"brahman\"]\n",
    "islam_words = [\"allah\", \"muslim\", \"islam\", \"hadith\", \"quoran\"]\n",
    "judaism_words = [\"rabbi\", \"torah\", \"judaism\", \"jew\", \"moshe\"]\n",
    "christianity_words = [\"jesus\", \"church\", \"paul\", \"christian\", \"catholic\"]\n",
    "buddhism_words = [\"buddha\", \"buddhist\", \"buddhism\", \"sutta\", \"budd\"]\n",
    "\n",
    "hinduismPostsPath = os.getcwd() + '\\\\' + 'data' + '\\\\' + 'hinduism' + '\\\\' + 'Posts.XML'\n",
    "islamPostsPath = os.getcwd() + '\\\\' + 'data' + '\\\\' + 'islam' + '\\\\' + 'Posts.XML'\n",
    "judaismPostsPath = os.getcwd() + '\\\\' + 'data' + '\\\\' + 'judaism' + '\\\\' + 'Posts.XML'\n",
    "christianityPostsPath = os.getcwd() + '\\\\' + 'data' + '\\\\' + 'christianity' + '\\\\' + 'Posts.XML'\n",
    "buddhismPostsPath = os.getcwd() + '\\\\' + 'data' + '\\\\' + 'buddhism' + '\\\\' + 'Posts.XML'\n",
    "\n",
    "c_w = words_occurency_list(christianityPostsPath, [hinduism_words, islam_words, judaism_words, buddhism_words])\n",
    "pl4 = draw_words_plot([\"hinduism\", \"islam\", \"judaism\", \"buddhism\"], c_w, \"Występowanie słów z innych religi w postach forum chrześcijańskiego\")\n"
   ]
  },
  {
   "cell_type": "code",
   "execution_count": null,
   "metadata": {},
   "outputs": [],
   "source": [
    "hinduism_words = [\"hinduism\", \"shiva\", \"krishna\", \"hindu\", \"brahman\"]\n",
    "islam_words = [\"allah\", \"muslim\", \"islam\", \"hadith\", \"quoran\"]\n",
    "judaism_words = [\"rabbi\", \"torah\", \"judaism\", \"jew\", \"moshe\"]\n",
    "christianity_words = [\"jesus\", \"church\", \"paul\", \"christian\", \"catholic\"]\n",
    "buddhism_words = [\"buddha\", \"buddhist\", \"buddhism\", \"sutta\", \"budd\"]\n",
    "\n",
    "hinduismPostsPath = os.getcwd() + '\\\\' + 'data' + '\\\\' + 'hinduism' + '\\\\' + 'Posts.XML'\n",
    "islamPostsPath = os.getcwd() + '\\\\' + 'data' + '\\\\' + 'islam' + '\\\\' + 'Posts.XML'\n",
    "judaismPostsPath = os.getcwd() + '\\\\' + 'data' + '\\\\' + 'judaism' + '\\\\' + 'Posts.XML'\n",
    "christianityPostsPath = os.getcwd() + '\\\\' + 'data' + '\\\\' + 'christianity' + '\\\\' + 'Posts.XML'\n",
    "buddhismPostsPath = os.getcwd() + '\\\\' + 'data' + '\\\\' + 'buddhism' + '\\\\' + 'Posts.XML'\n",
    "\n",
    "b_w = words_occurency_list(buddhismPostsPath, [hinduism_words, islam_words, judaism_words, christianity_words])\n",
    "pl5 = draw_words_plot([\"hinduism\", \"islam\", \"judaism\", \"christianity\"], b_w, \"Występowanie słów z innych religi w postach forum buddyjskiego\")"
   ]
  },
  {
   "cell_type": "markdown",
   "metadata": {},
   "source": [
    "## Użytkownicy na przekroju religii"
   ]
  },
  {
   "cell_type": "code",
   "execution_count": null,
   "metadata": {},
   "outputs": [],
   "source": [
    "users = islam_df['Users'].Id\n",
    "\n",
    "\n",
    "\n",
    "res1 = islam_df['Posts'].groupby(islam_df['Posts'].OwnerUserId, as_index=False)['OwnerUserId'].size()\n",
    "res1.rename(columns = {'size': 'islam_posts'}, inplace = True)\n",
    "\n",
    "\n",
    "\n",
    "res2 = christianity_df['Posts'].groupby(christianity_df['Posts'].OwnerUserId, as_index=False)['OwnerUserId'].size()\n",
    "res2.rename(columns = {'size': 'christianity_posts'}, inplace = True)\n",
    "\n",
    "\n",
    "\n",
    "res3 = judaism_df['Posts'].groupby(judaism_df['Posts'].OwnerUserId, as_index=False)['OwnerUserId'].size()\n",
    "res3.rename(columns = {'size': 'judaism_posts'}, inplace = True)\n",
    "\n",
    "\n",
    "\n",
    "res4 = buddhism_df['Posts'].groupby(buddhism_df['Posts'].OwnerUserId, as_index=False)['OwnerUserId'].size()\n",
    "res4.rename(columns = {'size': 'buddhism_posts'}, inplace = True)\n",
    "\n",
    "\n",
    "\n",
    "res5 = hinduism_df['Posts'].groupby(hinduism_df['Posts'].OwnerUserId, as_index=False)['OwnerUserId'].size()\n",
    "res5.rename(columns = {'size': 'hinduism_posts'}, inplace = True)\n",
    "\n",
    "\n",
    "\n",
    "w1 = pd.merge(users, res1, how='left', left_on='Id', right_on='OwnerUserId')\n",
    "w2 = pd.merge(w1, res2, how='left', left_on='Id', right_on='OwnerUserId')\n",
    "w3 = pd.merge(w2, res3, how='left', left_on='Id', right_on='OwnerUserId')\n",
    "w4 = pd.merge(w3, res4, how='left', left_on='Id', right_on='OwnerUserId')\n",
    "w5 = pd.merge(w4, res5, how='left', left_on='Id', right_on='OwnerUserId')\n",
    "\n",
    "\n",
    "\n",
    "users_posts = w5[['Id', 'islam_posts', 'christianity_posts', 'judaism_posts', 'buddhism_posts', 'hinduism_posts']]\n",
    "users_posts.fillna(0, inplace=True)\n",
    "users_posts['sum'] = users_posts['islam_posts'] + users_posts['christianity_posts'] + users_posts['judaism_posts'] + users_posts['buddhism_posts'] + users_posts['hinduism_posts']\n",
    "\n",
    "\n",
    "\n",
    "ss = users_posts.sort_values(by='sum', ascending=False)\n",
    "ss.head(50)"
   ]
  },
  {
   "cell_type": "code",
   "execution_count": null,
   "metadata": {},
   "outputs": [],
   "source": []
  },
  {
   "cell_type": "code",
   "execution_count": null,
   "metadata": {},
   "outputs": [],
   "source": []
  }
 ],
 "metadata": {
  "kernelspec": {
   "display_name": "Python 3",
   "language": "python",
   "name": "python3"
  },
  "language_info": {
   "codemirror_mode": {
    "name": "ipython",
    "version": 3
   },
   "file_extension": ".py",
   "mimetype": "text/x-python",
   "name": "python",
   "nbconvert_exporter": "python",
   "pygments_lexer": "ipython3",
   "version": "3.8.5"
  }
 },
 "nbformat": 4,
 "nbformat_minor": 4
}
